{
  "nbformat": 4,
  "nbformat_minor": 0,
  "metadata": {
    "colab": {
      "name": "Untitled1.ipynb",
      "provenance": [],
      "collapsed_sections": [],
      "authorship_tag": "ABX9TyMdx7CCKBBptQ4YYTmw9p1O",
      "include_colab_link": true
    },
    "kernelspec": {
      "name": "python3",
      "display_name": "Python 3"
    },
    "language_info": {
      "name": "python"
    }
  },
  "cells": [
    {
      "cell_type": "markdown",
      "metadata": {
        "id": "view-in-github",
        "colab_type": "text"
      },
      "source": [
        "<a href=\"https://colab.research.google.com/github/Irina-Bychkova18/Proj_1_sem/blob/master/PZ_4____1.ipynb\" target=\"_parent\"><img src=\"https://colab.research.google.com/assets/colab-badge.svg\" alt=\"Open In Colab\"/></a>"
      ]
    },
    {
      "cell_type": "code",
      "execution_count": null,
      "metadata": {
        "colab": {
          "base_uri": "https://localhost:8080/"
        },
        "id": "0HXEihwMs2b7",
        "outputId": "e5d42f14-d44c-48c6-82d0-d71e6c0daf16"
      },
      "outputs": [
        {
          "output_type": "stream",
          "name": "stdout",
          "text": [
            "Введите первое число: 13\n",
            "Введите второе число: 6\n",
            "Неправильно ввели!\n",
            "Введите первое число: 13\n",
            "Неправильно ввели!\n",
            "Введите первое число: 5\n",
            "Произведение =  30\n"
          ]
        }
      ],
      "source": [
        "# Даны два целых числа A и B (A < B). Найти произведение всех целых чисел от A до B включительно.\n",
        "\n",
        "A = input('Введите первое число: ')\n",
        "\n",
        "while type(A) != int:  # обработка исключений\n",
        "    try:\n",
        "        A = int(A)\n",
        "    except ValueError:\n",
        "        print('Неправильно ввели!')\n",
        "        A = input('Введите первое целое число: ')\n",
        "\n",
        "B = input('Введите второе число: ')\n",
        "\n",
        "while type(B) != int:  # обработка исключений\n",
        "    try:\n",
        "        B = int(B)\n",
        "    except ValueError:\n",
        "        print('Неправильно ввели!')\n",
        "        B = input('Введите второе целое число: ')\n",
        "\n",
        "while B <= A:  # ограничение диапазона\n",
        "    try:\n",
        "        print('Неправильно ввели!')\n",
        "        A = int(input('Введите первое число: '))\n",
        "    except TypeError:\n",
        "        A = int(input('Введите первое число: '))\n",
        "\n",
        "P = 1\n",
        "\n",
        "while A <= B:\n",
        "    P *= A\n",
        "    A += 1\n",
        "\n",
        "print('Произведение = ', P)"
      ]
    }
  ]
}