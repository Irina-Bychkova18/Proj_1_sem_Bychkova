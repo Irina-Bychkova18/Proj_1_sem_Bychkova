{
  "nbformat": 4,
  "nbformat_minor": 0,
  "metadata": {
    "colab": {
      "name": "Untitled2.ipynb",
      "provenance": [],
      "collapsed_sections": [],
      "authorship_tag": "ABX9TyObTqt0eSDk5SFzUiB5ULuF",
      "include_colab_link": true
    },
    "kernelspec": {
      "name": "python3",
      "display_name": "Python 3"
    },
    "language_info": {
      "name": "python"
    }
  },
  "cells": [
    {
      "cell_type": "markdown",
      "metadata": {
        "id": "view-in-github",
        "colab_type": "text"
      },
      "source": [
        "<a href=\"https://colab.research.google.com/github/Irina-Bychkova18/Proj_1_sem/blob/master/PZ_5_____1.ipynb\" target=\"_parent\"><img src=\"https://colab.research.google.com/assets/colab-badge.svg\" alt=\"Open In Colab\"/></a>"
      ]
    },
    {
      "cell_type": "code",
      "execution_count": 1,
      "metadata": {
        "colab": {
          "base_uri": "https://localhost:8080/"
        },
        "id": "wtMDGPqdtYT7",
        "outputId": "9be348a1-5caa-4d3c-a0fa-afd23d5670c5"
      },
      "outputs": [
        {
          "output_type": "stream",
          "name": "stdout",
          "text": [
            "Введи первое целое число: ddjd\n",
            "Неправильно ввели!\n",
            "Введите целое число: dld\n",
            "Неправильно ввели!\n",
            "Введите целое число: 13\n",
            "Введи второе целое число: -9\n",
            "Введи целое число: 2\n",
            "Введи целое число: 23\n",
            "Сумма чисел =  198\n"
          ]
        }
      ],
      "source": [
        "# Найти сумму чисел ряда 1,2,3,4,... от числа n до числа m.\n",
        "# Суммирование оформить функцией с параметрами. Значения n и m программа должна запрашивать.\n",
        "\n",
        "def amount(n, m):\n",
        "    s = 0\n",
        "\n",
        "    while n <= m:\n",
        "        s += n\n",
        "        n += 1\n",
        "    return s\n",
        "\n",
        "\n",
        "k = input('Введи первое целое число: ')\n",
        "\n",
        "while type(k) != int:  # обработка исключений\n",
        "    try:\n",
        "        k = int(k)\n",
        "    except ValueError:\n",
        "        print('Неправильно ввели!')\n",
        "        k = input('Введите целое число: ')\n",
        "\n",
        "while k <= 0:  # ограничение диапазона\n",
        "    try:\n",
        "        k = input('Введи целое число от 0: ')\n",
        "    except TypeError:\n",
        "        print('Неправильно ввели!')\n",
        "        k = int(input('Введи целое число от 0: '))\n",
        "\n",
        "p = input('Введи второе целое число: ')\n",
        "\n",
        "while type(p) != int:  # обработка исключений\n",
        "    try:\n",
        "        p = int(p)\n",
        "    except ValueError:\n",
        "        print('Неправильно ввели!')\n",
        "        p = input('Введите целое число: ')\n",
        "\n",
        "while k > p:  # ограничение диапазона\n",
        "    try:\n",
        "        p = int(input('Введи целое число: '))\n",
        "    except TypeError:\n",
        "        print('Неправильно ввели!')\n",
        "        p = int(input('Введи целое число: '))\n",
        "\n",
        "print('Сумма чисел = ', amount(k, p))"
      ]
    }
  ]
}