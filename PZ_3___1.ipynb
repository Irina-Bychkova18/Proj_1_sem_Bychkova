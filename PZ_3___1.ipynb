{
  "nbformat": 4,
  "nbformat_minor": 0,
  "metadata": {
    "colab": {
      "name": "Untitled0.ipynb",
      "provenance": [],
      "collapsed_sections": [],
      "authorship_tag": "ABX9TyMx1J1tkJL30ehZi0ij5Jr2",
      "include_colab_link": true
    },
    "kernelspec": {
      "name": "python3",
      "display_name": "Python 3"
    },
    "language_info": {
      "name": "python"
    }
  },
  "cells": [
    {
      "cell_type": "markdown",
      "metadata": {
        "id": "view-in-github",
        "colab_type": "text"
      },
      "source": [
        "<a href=\"https://colab.research.google.com/github/Irina-Bychkova18/Proj_1_sem/blob/master/PZ_3___1.ipynb\" target=\"_parent\"><img src=\"https://colab.research.google.com/assets/colab-badge.svg\" alt=\"Open In Colab\"/></a>"
      ]
    },
    {
      "cell_type": "code",
      "execution_count": null,
      "metadata": {
        "colab": {
          "base_uri": "https://localhost:8080/"
        },
        "id": "nNHSiWB2rjE2",
        "outputId": "5ee3f5bc-8181-43bc-cf1d-38fbcb48cdb2"
      },
      "outputs": [
        {
          "output_type": "stream",
          "name": "stdout",
          "text": [
            "Введите первое число: 2\n",
            "Введите второе число: 3\n",
            "Введите третье число: 7\n",
            "Истина\n"
          ]
        }
      ],
      "source": [
        "# Даны три целых числа: A, B, C.\n",
        "# Проверить истинность высказывания: «Число B находится между числами A и C».\n",
        "\n",
        "A, B, C = input('Введите первое число: '), input('Введите второе число: '), input('Введите третье число: ')\n",
        "\n",
        "while type(A) != int:  # обработка исключений\n",
        "    try:\n",
        "        A = int(A)\n",
        "    except ValueError:\n",
        "        print('Неправильно ввели!')\n",
        "        A = input('Введите первое число: ')\n",
        "\n",
        "while type(B) != int:  # обработка исключений\n",
        "    try:\n",
        "        B = int(B)\n",
        "    except ValueError:\n",
        "        print('Неправильно ввели!')\n",
        "        B = input('Введите второе число: ')\n",
        "\n",
        "while type(C) != int:  # обработка исключений\n",
        "    try:\n",
        "        C = int(C)\n",
        "    except ValueError:\n",
        "        print('Неправильно ввели!')\n",
        "        C = input('Введите третье число: ')\n",
        "\n",
        "if (A < B < C) or (A > B > C):\n",
        "    print('Истина')\n",
        "else:\n",
        "    print('Ложь')"
      ]
    },
    {
      "cell_type": "markdown",
      "source": [
        "# Новый раздел"
      ],
      "metadata": {
        "id": "kRl0HLZWsu3G"
      }
    }
  ]
}